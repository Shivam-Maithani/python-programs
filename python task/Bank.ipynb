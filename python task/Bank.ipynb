{
 "cells": [
  {
   "cell_type": "code",
   "execution_count": 24,
   "id": "5291391f-d9c3-4650-9805-04e25afdc8ff",
   "metadata": {},
   "outputs": [
    {
     "data": {
      "text/plain": [
       "True"
      ]
     },
     "execution_count": 24,
     "metadata": {},
     "output_type": "execute_result"
    }
   ],
   "source": [
    "import cv2\n",
    "import pytesseract\n",
    "\n",
    "#load the image 1 for color\n",
    "\n",
    "image = cv2.imread(\"C:\\\\Users\\\\pc\\\\Desktop\\\\python task\\\\bank_statement.png\")\n",
    "\n",
    "img1 = cv2.cvtColor(image,cv2.COLOR_BGR2GRAY)\n",
    "\n",
    "cv2.imwrite(\"C:\\\\Users\\\\pc\\\\Desktop\\\\python task\\\\Gray_bank_statement.png\",img1)"
   ]
  },
  {
   "cell_type": "code",
   "execution_count": 25,
   "id": "f57050c3-f250-4332-b27e-eb35b29d9890",
   "metadata": {},
   "outputs": [],
   "source": [
    "# Apply adaptive thresholding\n",
    "\n",
    "thresh = cv2.adaptiveThreshold(img1, 255, cv2.ADAPTIVE_THRESH_GAUSSIAN_C, cv2.THRESH_BINARY_INV, 11, 2)\n"
   ]
  },
  {
   "cell_type": "code",
   "execution_count": null,
   "id": "962bae15-2781-42a5-b735-0702b4d07677",
   "metadata": {},
   "outputs": [],
   "source": []
  }
 ],
 "metadata": {
  "kernelspec": {
   "display_name": "Python 3 (ipykernel)",
   "language": "python",
   "name": "python3"
  },
  "language_info": {
   "codemirror_mode": {
    "name": "ipython",
    "version": 3
   },
   "file_extension": ".py",
   "mimetype": "text/x-python",
   "name": "python",
   "nbconvert_exporter": "python",
   "pygments_lexer": "ipython3",
   "version": "3.12.4"
  }
 },
 "nbformat": 4,
 "nbformat_minor": 5
}
