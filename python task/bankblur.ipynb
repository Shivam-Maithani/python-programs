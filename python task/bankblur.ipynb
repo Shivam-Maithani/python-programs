{
 "cells": [
  {
   "cell_type": "code",
   "execution_count": 16,
   "id": "7fd9001e-a156-4b8c-9562-cea4ee527a09",
   "metadata": {},
   "outputs": [
    {
     "data": {
      "text/plain": [
       "True"
      ]
     },
     "execution_count": 16,
     "metadata": {},
     "output_type": "execute_result"
    }
   ],
   "source": [
    "import cv2\n",
    "import numpy as np\n",
    "\n",
    "# Load the bank statement image\n",
    "image = cv2.imread('C:\\\\Users\\\\pc\\\\Desktop\\\\python task\\\\bank__statement.png')\n",
    "\n",
    "# Define the sensitive regions\n",
    "sensitive_regions = [(100, 50, 300, 100), (400, 200, 550, 250), (150, 300, 300, 350), (100, 109, 180, 150,) ]\n",
    "\n",
    "# Apply Gaussian blur to the sensitive regions\n",
    "for x1, y1, x2, y2 in sensitive_regions:\n",
    "    roi = image[y1:y2, x1:x2]\n",
    "    blurred = cv2.GaussianBlur(roi, (23, 23), 0)\n",
    "    image[y1:y2, x1:x2] = blurred\n",
    "\n",
    "# Save the blurred image\n",
    "cv2.imwrite('blurred_bank_statement.png', image)\n"
   ]
  },
  {
   "cell_type": "code",
   "execution_count": null,
   "id": "a908af47-4983-455b-91e7-f6184e270079",
   "metadata": {},
   "outputs": [],
   "source": []
  }
 ],
 "metadata": {
  "kernelspec": {
   "display_name": "Python 3 (ipykernel)",
   "language": "python",
   "name": "python3"
  },
  "language_info": {
   "codemirror_mode": {
    "name": "ipython",
    "version": 3
   },
   "file_extension": ".py",
   "mimetype": "text/x-python",
   "name": "python",
   "nbconvert_exporter": "python",
   "pygments_lexer": "ipython3",
   "version": "3.12.4"
  }
 },
 "nbformat": 4,
 "nbformat_minor": 5
}
